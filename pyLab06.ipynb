{
  "nbformat": 4,
  "nbformat_minor": 0,
  "metadata": {
    "colab": {
      "provenance": [],
      "authorship_tag": "ABX9TyM0q3JL1WLcZRBZP5e1+j73",
      "include_colab_link": true
    },
    "kernelspec": {
      "name": "python3",
      "display_name": "Python 3"
    },
    "language_info": {
      "name": "python"
    }
  },
  "cells": [
    {
      "cell_type": "markdown",
      "metadata": {
        "id": "view-in-github",
        "colab_type": "text"
      },
      "source": [
        "<a href=\"https://colab.research.google.com/github/2403A51L1/Py-for-DataScience/blob/main/pyLab06.ipynb\" target=\"_parent\"><img src=\"https://colab.research.google.com/assets/colab-badge.svg\" alt=\"Open In Colab\"/></a>"
      ]
    },
    {
      "cell_type": "code",
      "execution_count": 9,
      "metadata": {
        "colab": {
          "base_uri": "https://localhost:8080/"
        },
        "id": "dF0sDOXZc4B0",
        "outputId": "3b4c6d53-5c6d-4517-e222-3889059eec75"
      },
      "outputs": [
        {
          "output_type": "stream",
          "name": "stdout",
          "text": [
            "Before Cleaning:\n",
            "    StudentID    Name Gender\n",
            "0          1  Harshu      F\n",
            "1          2    Ajay   Male\n",
            "2          3  Varshu      F\n",
            "3          4   Kiran      M\n",
            "4          5    Keer      F\n",
            "5          6  Charan   Male\n",
            "After Cleaning:\n",
            "    StudentID    Name  Gender\n",
            "0          1  Harshu  Female\n",
            "1          2    Ajay    Male\n",
            "2          3  Varshu  Female\n",
            "3          4   Kiran    Male\n",
            "4          5    Keer  Female\n",
            "5          6  Charan    Male\n"
          ]
        }
      ],
      "source": [
        "import pandas as pd\n",
        "student_data = {\n",
        "    \"StudentID\": [1, 2, 3, 4, 5, 6],\n",
        "    \"Name\": [\"Harshu\",\"Ajay\",\"Varshu\",\"Kiran\",\"Keer\",\"Charan\"],\n",
        "    \"Gender\": [\"F\", \"Male\", \"F\", \"M\", \"F\", \"Male\"]\n",
        "}\n",
        "df_students = pd.DataFrame(student_data)\n",
        "print(\"Before Cleaning:\\n\", df_students)\n",
        "# Convert all to lowercase, then map to standardized labels\n",
        "df_students[\"Gender\"] = df_students[\"Gender\"].str.lower().map({\n",
        "    \"m\": \"Male\",\n",
        "    \"male\": \"Male\",\n",
        "    \"f\": \"Female\",\n",
        "    \"female\": \"Female\"\n",
        "})\n",
        "print(\"After Cleaning:\\n\", df_students)"
      ]
    },
    {
      "cell_type": "code",
      "source": [
        "import pandas as pd\n",
        "file_path = \"/content/train_and_test2.csv\"\n",
        "df = pd.read_csv(file_path)\n",
        "print(\"Before Cleaning – Missing Values:\\n\", df.isnull().sum())\n",
        "if \"Age\" in df.columns:\n",
        "    df[\"Age\"] = df[\"Age\"].fillna(df[\"Age\"].mean())\n",
        "if \"Embarked\" in df.columns:\n",
        "    df[\"Embarked\"] = df[\"Embarked\"].fillna(df[\"Embarked\"].mode()[0])\n",
        "if \"Cabin\" in df.columns:\n",
        "    df = df.drop(columns=[\"Cabin\"])\n",
        "print(\"After Cleaning – Missing Values:\\n\", df.isnull().sum())\n",
        "df.to_csv(\"cleaned_titanic.csv\", index=False)\n",
        "print(\"Cleaned dataset saved as 'cleaned_titanic.csv'\")"
      ],
      "metadata": {
        "colab": {
          "base_uri": "https://localhost:8080/"
        },
        "id": "oy8VshPyfV0u",
        "outputId": "01af880d-622e-44ff-940a-a644739508bb"
      },
      "execution_count": 10,
      "outputs": [
        {
          "output_type": "stream",
          "name": "stdout",
          "text": [
            "Before Cleaning – Missing Values:\n",
            " Passengerid    0\n",
            "Age            0\n",
            "Fare           0\n",
            "Sex            0\n",
            "sibsp          0\n",
            "zero           0\n",
            "zero.1         0\n",
            "zero.2         0\n",
            "zero.3         0\n",
            "zero.4         0\n",
            "zero.5         0\n",
            "zero.6         0\n",
            "Parch          0\n",
            "zero.7         0\n",
            "zero.8         0\n",
            "zero.9         0\n",
            "zero.10        0\n",
            "zero.11        0\n",
            "zero.12        0\n",
            "zero.13        0\n",
            "zero.14        0\n",
            "Pclass         0\n",
            "zero.15        0\n",
            "zero.16        0\n",
            "Embarked       2\n",
            "zero.17        0\n",
            "zero.18        0\n",
            "2urvived       0\n",
            "dtype: int64\n",
            "After Cleaning – Missing Values:\n",
            " Passengerid    0\n",
            "Age            0\n",
            "Fare           0\n",
            "Sex            0\n",
            "sibsp          0\n",
            "zero           0\n",
            "zero.1         0\n",
            "zero.2         0\n",
            "zero.3         0\n",
            "zero.4         0\n",
            "zero.5         0\n",
            "zero.6         0\n",
            "Parch          0\n",
            "zero.7         0\n",
            "zero.8         0\n",
            "zero.9         0\n",
            "zero.10        0\n",
            "zero.11        0\n",
            "zero.12        0\n",
            "zero.13        0\n",
            "zero.14        0\n",
            "Pclass         0\n",
            "zero.15        0\n",
            "zero.16        0\n",
            "Embarked       0\n",
            "zero.17        0\n",
            "zero.18        0\n",
            "2urvived       0\n",
            "dtype: int64\n",
            "Cleaned dataset saved as 'cleaned_titanic.csv'\n"
          ]
        }
      ]
    }
  ]
}